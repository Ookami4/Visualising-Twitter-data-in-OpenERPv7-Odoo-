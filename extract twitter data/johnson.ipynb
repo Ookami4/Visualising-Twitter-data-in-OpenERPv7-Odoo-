{
 "cells": [
  {
   "cell_type": "code",
   "execution_count": null,
   "outputs": [],
   "source": [
    "import psycopg2\n",
    "import tweepy as tw\n",
    "import re\n",
    "from textblob import TextBlob"
   ],
   "metadata": {
    "collapsed": false,
    "pycharm": {
     "name": "#%%\n"
    }
   }
  },
  {
   "cell_type": "code",
   "execution_count": null,
   "outputs": [],
   "source": [
    "consumer_key= ''\n",
    "consumer_key_secret= ''\n",
    "access_token= ''\n",
    "access_token_secret= ''\n",
    "\n",
    "auth = tw.OAuthHandler(consumer_key, consumer_key_secret)\n",
    "auth.set_access_token(access_token, access_token_secret)\n",
    "api = tw.API(auth, wait_on_rate_limit=True)"
   ],
   "metadata": {
    "collapsed": false,
    "pycharm": {
     "name": "#%%\n"
    }
   }
  },
  {
   "cell_type": "code",
   "execution_count": null,
   "outputs": [],
   "source": [
    "def remove_url(txt):\n",
    "    return \" \".join(re.sub(\"([^0-9A-Za-z \\t])|(\\w+:\\/\\/\\S+)\", \"\", txt).split())"
   ],
   "metadata": {
    "collapsed": false,
    "pycharm": {
     "name": "#%%\n"
    }
   }
  },
  {
   "cell_type": "code",
   "execution_count": null,
   "outputs": [],
   "source": [
    "search_word = \"#Johnson+johnson\"\n",
    "tweets = tw.Cursor(api.search_tweets, q= search_word+\" -filter:retweets\", lang='en').items(1000)\n",
    "tweets_text = [remove_url(tweet.text) for tweet in tweets]"
   ],
   "metadata": {
    "collapsed": false,
    "pycharm": {
     "name": "#%%\n"
    }
   }
  },
  {
   "cell_type": "code",
   "execution_count": null,
   "outputs": [],
   "source": [
    "sentiment_objects = [TextBlob(tweet) for tweet in tweets_text]\n",
    "\n",
    "sentiment_objects[0].polarity, sentiment_objects[0]"
   ],
   "metadata": {
    "collapsed": false,
    "pycharm": {
     "name": "#%%\n"
    }
   }
  },
  {
   "cell_type": "code",
   "execution_count": null,
   "outputs": [],
   "source": [
    "conn = psycopg2.connect(\n",
    "    database=\"m-erp\", user='redouan', password='redouan', host='127.0.0.1', port='5432'\n",
    ")\n",
    "\n",
    "cursor = conn.cursor()\n",
    "\n",
    "sentiment_values = [[tweet.sentiment.polarity, str(tweet)] for tweet in sentiment_objects]\n",
    "\n",
    "postgreSQL_Insert_Query = \"\"\"INSERT INTO twitter_johnson (polarite, tweet) VALUES(%s, %s)\"\"\"\n",
    "\n",
    "sentiment_values[0]\n",
    "\n",
    "for i in sentiment_values:\n",
    "    postgre_records = (i[0], i[1])\n",
    "    cursor.execute(postgreSQL_Insert_Query, postgre_records)\n",
    "conn.commit()\n",
    "\n",
    "\n",
    "\n"
   ],
   "metadata": {
    "collapsed": false,
    "pycharm": {
     "name": "#%%\n"
    }
   }
  }
 ],
 "metadata": {
  "kernelspec": {
   "display_name": "Python 3",
   "language": "python",
   "name": "python3"
  },
  "language_info": {
   "codemirror_mode": {
    "name": "ipython",
    "version": 2
   },
   "file_extension": ".py",
   "mimetype": "text/x-python",
   "name": "python",
   "nbconvert_exporter": "python",
   "pygments_lexer": "ipython2",
   "version": "2.7.6"
  }
 },
 "nbformat": 4,
 "nbformat_minor": 0
}