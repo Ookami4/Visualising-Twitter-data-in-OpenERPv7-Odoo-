{
 "cells": [
  {
   "cell_type": "code",
   "execution_count": 5,
   "metadata": {
    "pycharm": {
     "is_executing": true,
     "name": "#%%\n"
    }
   },
   "outputs": [],
   "source": [
    "import psycopg2\n",
    "import tweepy as tw\n",
    "import re\n",
    "from textblob import TextBlob"
   ]
  },
  {
   "cell_type": "code",
   "execution_count": 7,
   "metadata": {
    "pycharm": {
     "is_executing": true,
     "name": "#%%\n"
    }
   },
   "outputs": [],
   "source": [
    "consumer_key= 'Nw7P8QJV5voqp8pQdBm7cbyYk'\n",
    "consumer_key_secret= 'IyCRRQwMNhM9oqgDotTTSxrfJnA4964a7Y2UW2cAsSh6hAWhFV'\n",
    "access_token= '917088203856678912-c88YrEJryQhxlTXC9k6cjqloXNBlHys'\n",
    "access_token_secret= 'UkgTv3dLs1SaPQRxH7ywewuQMCOHnEgZhs64Z17oqZdWw'\n",
    "\n",
    "auth = tw.OAuthHandler(consumer_key, consumer_key_secret)\n",
    "auth.set_access_token(access_token, access_token_secret)\n",
    "api = tw.API(auth, wait_on_rate_limit=True)"
   ]
  },
  {
   "cell_type": "code",
   "execution_count": 9,
   "metadata": {
    "pycharm": {
     "is_executing": true,
     "name": "#%%\n"
    }
   },
   "outputs": [],
   "source": [
    "def remove_url(txt):\n",
    "    return \" \".join(re.sub(\"([^0-9A-Za-z \\t])|(\\w+:\\/\\/\\S+)\", \"\", txt).split())"
   ]
  },
  {
   "cell_type": "code",
   "execution_count": 10,
   "metadata": {
    "pycharm": {
     "is_executing": true,
     "name": "#%%\n"
    }
   },
   "outputs": [],
   "source": [
    "search_word = \"#Sinopharm+sinopharm\"\n",
    "tweets = tw.Cursor(api.search_tweets, q= search_word+\" -filter:retweets\", lang='en').items(521)\n",
    "tweets_text = [remove_url(tweet.text) for tweet in tweets]"
   ]
  },
  {
   "cell_type": "code",
   "execution_count": 11,
   "metadata": {
    "pycharm": {
     "is_executing": true,
     "name": "#%%\n"
    }
   },
   "outputs": [
    {
     "data": {
      "text/plain": [
       "(0.0,\n",
       " TextBlob(\"Is Omicron the final VOC Article doesnt mention possible impact of inactivated virus vaccines with their ability\"))"
      ]
     },
     "execution_count": 11,
     "metadata": {},
     "output_type": "execute_result"
    }
   ],
   "source": [
    "sentiment_objects = [TextBlob(tweet) for tweet in tweets_text]\n",
    "\n",
    "sentiment_objects[0].polarity, sentiment_objects[0]"
   ]
  },
  {
   "cell_type": "code",
   "execution_count": 12,
   "metadata": {
    "pycharm": {
     "is_executing": true,
     "name": "#%%\n"
    }
   },
   "outputs": [],
   "source": [
    "conn = psycopg2.connect(\n",
    "    database=\"m-erp\", user='redouan', password='redouan', host='127.0.0.1', port='5432'\n",
    ")\n",
    "\n",
    "cursor = conn.cursor()\n",
    "\n",
    "sentiment_values = [[tweet.sentiment.polarity, str(tweet)] for tweet in sentiment_objects]\n",
    "\n",
    "postgreSQL_Insert_Query = \"\"\"INSERT INTO twitter_sinopharm (polarite, tweet) VALUES(%s, %s)\"\"\"\n",
    "\n",
    "sentiment_values[0]\n",
    "\n",
    "for i in sentiment_values:\n",
    "    postgre_records = (i[0], i[1])\n",
    "    cursor.execute(postgreSQL_Insert_Query, postgre_records)\n",
    "conn.commit()\n",
    "\n"
   ]
  },
  {
   "cell_type": "code",
   "execution_count": null,
   "metadata": {},
   "outputs": [],
   "source": []
  }
 ],
 "metadata": {
  "kernelspec": {
   "display_name": "Python 3 (ipykernel)",
   "language": "python",
   "name": "python3"
  },
  "language_info": {
   "codemirror_mode": {
    "name": "ipython",
    "version": 3
   },
   "file_extension": ".py",
   "mimetype": "text/x-python",
   "name": "python",
   "nbconvert_exporter": "python",
   "pygments_lexer": "ipython3",
   "version": "3.9.6"
  }
 },
 "nbformat": 4,
 "nbformat_minor": 1
}
